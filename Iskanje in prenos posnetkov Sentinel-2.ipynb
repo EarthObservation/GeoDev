{
 "cells": [
  {
   "cell_type": "markdown",
   "metadata": {},
   "source": [
    "# Iskanje in prenos posnetkov"
   ]
  },
  {
   "cell_type": "markdown",
   "metadata": {},
   "source": [
    "## Viri satelitskih posnetkov\n",
    "\n",
    "Količina razpoložljivih satelitskih posnetkov srednje in visoke ločljivosti se je v zadnjem desetletju močno povečala. Satelitski sistemi kot je [Sentinel-2](https://www.esa.int/Our_Activities/Observing_the_Earth/Copernicus/Sentinel-2) (Copernicus, EU), [Landsat](https://landsat.usgs.gov/) (USGS) in [PlanetScope](https://www.planet.com/docs/spec-sheets/sat-imagery/) (Planet) omogočajo praktično dnevno spremljanje stanja površja.\n",
    "\n",
    "Tehnološke spremembe pa spreminjajo tudi način dostopa do podatkov in obdelavo. Postopke je potrebno avtomatizirati ter jih prilagoditi izvajanju v oblaku. Od obdelave enega ali nekaj posnetkov smo prešli do obdelave goste časovne vrste in velikih (prostorskih) podatkov (big geospatial data) ter uporabe umetne inteligence pri interpretaciji.\n",
    "\n",
    "## Načini dostopa\n",
    "\n",
    "Do satelitskih posnetkov lahko dostopamo prek spletnih portalov, ki mogočajo iskanje, naročanje in prenos posnetkov. Večina jih omogoča tudi API dostop, ponudniki pogosto ponujajo knjižnice za različne prograsmke jezike, praviloma Python.\n",
    "\n",
    "| Satelit                     | Spletni portal                            | API                                                                          |\n",
    "|-----------------------------|-------------------------------------------|------------------------------------------------------------------------------|\n",
    "| Landsat                     | https://earthexplorer.usgs.gov/           | https://earthexplorer.usgs.gov/inventory/documentation/json-api              |\n",
    "| Planet, Landsat, Sentinel-2 | https://www.planet.com/explorer/          | https://www.planet.com/docs/                                                 |\n",
    "| Sentinel-2                  | https://scihub.copernicus.eu/             | https://scihub.copernicus.eu/twiki/do/view/SciHubWebPortal/APIHubDescription |\n",
    "| Landsat, Sentinel-2, MODIS  | https://apps.sentinel-hub.com/eo-browser/ | https://www.sentinel-hub.com/develop/documentation/api                       |\n",
    "| Landsat 8, Sentine-2        | https://search.descarteslabs.com/         | https://docs.descarteslabs.com/                                              |                     |\n",
    "\n",
    "Enostaven dostop do spetlnih servisov, iskanje, prenos in deloma statistično obdelavo obstaja veliko knjižnic za različne programsek jezike. Knjižnice se razlikujejo glede enostavnost in zmogljivosti. Nekaj zmogljvojših za Python:\n",
    "\n",
    "* https://github.com/dgketchum/Landsat578\n",
    "* https://github.com/yoannMoreau/landsat_theia\n",
    "* https://pythonhosted.org/landsat-util/\n",
    "* https://github.com/planetlabs/planet-client-python\n",
    "* https://github.com/olivierhagolle/Sentinel-download\n",
    "* https://github.com/sentinel-hub/sentinelhub-py\n",
    "\n",
    "Zaradi enostavnosti dela in zmogljivosti bomo uporabili Sentinel Hub in knjižnico SentinelHub-Py."
   ]
  },
  {
   "cell_type": "markdown",
   "metadata": {},
   "source": [
    "## Potrebne knjižnice\n",
    "\n",
    "Satelitski posnetki so običajne rastrske datoteke, torej (velike) matrike. Za njihovo branje, obdelavo in pretvorbo, potrebujemo več knjižnic."
   ]
  },
  {
   "cell_type": "code",
   "execution_count": null,
   "metadata": {},
   "outputs": [],
   "source": [
    "# Potrebne knjižnice\n",
    "import numpy as np\n",
    "import pandas as pd\n",
    "import matplotlib.pyplot as plt\n",
    "import sentinelhub as shub"
   ]
  },
  {
   "cell_type": "code",
   "execution_count": null,
   "metadata": {},
   "outputs": [],
   "source": [
    "# Parametri beležnice\n",
    "%reload_ext autoreload\n",
    "%autoreload 2\n",
    "%matplotlib inline\n",
    "plt.rcParams['figure.figsize'] = [12, 8]"
   ]
  },
  {
   "cell_type": "markdown",
   "metadata": {},
   "source": [
    "## Sentinel Hub račun\n",
    "\n",
    "Za dostop do Sentinel Huba je potrebna registracija. Ko imamo uporabniško ime in geslo, moramo na konfikuratorju ustvariti sloje oziroma storitve do katerih želmo dostopati. Konfigurator je dostopen na naslovu:  \n",
    "https://apps.sentinel-hub.com/configurator/#/\n",
    "\n",
    "![](./slike/sh_configuration_utility.png)\n",
    "\n",
    "Za dostop prek Pythona potrebujemo ID ustvarjene konfiguracije. ID ključ je vezan na osebo. Praviloma ga ne delimo in zato tudi ne zapisujemo beležnico. Lahko ga preberemo iz datoteke, v skrajnem primeru definiramo spremenljivko `INSTANCE_ID`, ki je niz znakov.\n",
    "\n",
    "Dostop do posameznih slojev je mogoč prek njihovega ID.\n",
    "\n",
    "![](./slike/sh_configuration_utility_layers.png)"
   ]
  },
  {
   "cell_type": "code",
   "execution_count": null,
   "metadata": {},
   "outputs": [],
   "source": [
    "# ID ključ mora biti definiran, preberemo ga iz datoteke\n",
    "sentinelhub_id = 'sentinelhub.id'\n",
    "f = open(sentinelhub_id,'r')\n",
    "exec(f.readline())"
   ]
  },
  {
   "cell_type": "code",
   "execution_count": null,
   "metadata": {},
   "outputs": [],
   "source": [
    "if 'INSTANCE_ID' in locals():\n",
    "    print(\"Sentinel Hub INSTANCE_ID obstaja\")\n",
    "    print(INSTANCE_ID)"
   ]
  },
  {
   "cell_type": "markdown",
   "metadata": {},
   "source": [
    "## Iskanje satelitskih posnetkov"
   ]
  },
  {
   "cell_type": "markdown",
   "metadata": {},
   "source": [
    "Poiskali bomo sateliske posnetke območja med Kranjem in Škofjo Loko. Najprej definiramo območje. Sentinel Hub pozna različne koordinatne sisteme, mi bomo uporabili kar WGS84 in torej geografske koordinate. Potrebujemo geografsko širini in dolžino zgornjega levega in spodnjega desnega kota. Oboje bi lahko prebrali iz ustrezne datoteke, recimo GeoJSON ali SHP. Koordinate lahko odčitamo iz poljubne spletne karte ([Google Maps](https://www.google.si/maps/), [GeoJSON.io](http://geojson.io/)) ali namiznega GIS programa (QGIS, ArcMap). Ustvariti moramo omočje `sentinelhub.common.BBox` v ustreznem koordinatnnem sistemu `sentinelhub.common.CRS`.\n",
    "\n",
    "![](./slike/geojson_io.jpg)"
   ]
  },
  {
   "cell_type": "code",
   "execution_count": null,
   "metadata": {},
   "outputs": [],
   "source": [
    "# Območje iskanja\n",
    "kranj_wgs84 = [14.26, 46.26, 14.51, 46.11]\n",
    "kranj_bbox = shub.BBox(bbox=kranj_wgs84, crs=shub.CRS.WGS84)"
   ]
  },
  {
   "cell_type": "markdown",
   "metadata": {},
   "source": [
    "## Dostop WMS"
   ]
  },
  {
   "cell_type": "markdown",
   "metadata": {},
   "source": [
    "Preverimo, če je območje pravilno delfiniramo in če se lahko povežemo s Sentinel Hubom. Najprej bomo do servisa dostopali prek lahko protokola WMS."
   ]
  },
  {
   "cell_type": "code",
   "execution_count": null,
   "metadata": {},
   "outputs": [],
   "source": [
    "# Datum posnetka z malo oblaki\n",
    "kranj_date = '2017-07-20'"
   ]
  },
  {
   "cell_type": "code",
   "execution_count": null,
   "metadata": {},
   "outputs": [],
   "source": [
    "wms_true_color_request = shub.WmsRequest(layer='TRUE-COLOR-S2-L1C',\n",
    "                                    bbox=kranj_bbox,\n",
    "                                    time=kranj_date,\n",
    "                                    width=1024, height=1024,\n",
    "                                    instance_id=INSTANCE_ID)"
   ]
  },
  {
   "cell_type": "code",
   "execution_count": null,
   "metadata": {},
   "outputs": [],
   "source": [
    "wms_true_color_img = wms_true_color_request.get_data()"
   ]
  },
  {
   "cell_type": "code",
   "execution_count": null,
   "metadata": {
    "scrolled": true
   },
   "outputs": [],
   "source": [
    "# Kanali v WMS so BGR, Python ima RGB\n",
    "plt.imshow(wms_true_color_img[-1][..., [2, 1, 0]])"
   ]
  },
  {
   "cell_type": "code",
   "execution_count": null,
   "metadata": {},
   "outputs": [],
   "source": [
    "print('Sentinel-2: ', wms_true_color_request.get_dates()[-1])"
   ]
  },
  {
   "cell_type": "markdown",
   "metadata": {},
   "source": [
    "## Iskanje posnetkov s parametri\n",
    "\n",
    "Poiščimo posnetke v izbranem časovnem obdobju."
   ]
  },
  {
   "cell_type": "code",
   "execution_count": null,
   "metadata": {},
   "outputs": [],
   "source": [
    "search_bbox = shub.BBox(bbox=kranj_bbox, crs=shub.CRS.WGS84)\n",
    "search_time_interval = ('2015-01-01', '2018-12-31')"
   ]
  },
  {
   "cell_type": "code",
   "execution_count": null,
   "metadata": {},
   "outputs": [],
   "source": [
    "# Poiščemo posnetke\n",
    "wfs_iterator = shub.WebFeatureService(search_bbox, search_time_interval,\n",
    "                                      data_source=shub.DataSource.SENTINEL2_L1C,\n",
    "                                      maxcc=1.0, instance_id=INSTANCE_ID)"
   ]
  },
  {
   "cell_type": "code",
   "execution_count": null,
   "metadata": {
    "scrolled": true
   },
   "outputs": [],
   "source": [
    "for tile_info in wfs_iterator:\n",
    "    print(tile_info)"
   ]
  },
  {
   "cell_type": "code",
   "execution_count": null,
   "metadata": {},
   "outputs": [],
   "source": [
    "# Vzamemo samo properties in naredimo pandas podatkovni okvir\n",
    "shub_wfs_df = pd.DataFrame(wfs_iterator.tile_list)['properties'].apply(pd.Series)\n",
    "# Stolpec date je datum\n",
    "shub_wfs_df['date'] = pd.to_datetime(shub_wfs_df['date'])"
   ]
  },
  {
   "cell_type": "code",
   "execution_count": null,
   "metadata": {
    "scrolled": true
   },
   "outputs": [],
   "source": [
    "shub_wfs_df.head()"
   ]
  },
  {
   "cell_type": "code",
   "execution_count": null,
   "metadata": {},
   "outputs": [],
   "source": [
    "shub_wfs_df.describe()"
   ]
  },
  {
   "cell_type": "code",
   "execution_count": null,
   "metadata": {},
   "outputs": [],
   "source": [
    "shub_wfs_df.plot(x='date', y='cloudCoverPercentage', style='o-', legend=None)"
   ]
  },
  {
   "cell_type": "markdown",
   "metadata": {},
   "source": [
    "## Poiščemo posnetke z malo oblakov"
   ]
  },
  {
   "cell_type": "code",
   "execution_count": null,
   "metadata": {},
   "outputs": [],
   "source": [
    "shub_wfs_df_cc = shub_wfs_df[shub_wfs_df[\"cloudCoverPercentage\"] < 10]"
   ]
  },
  {
   "cell_type": "code",
   "execution_count": null,
   "metadata": {},
   "outputs": [],
   "source": [
    "len(shub_wfs_df_cc)"
   ]
  },
  {
   "cell_type": "code",
   "execution_count": null,
   "metadata": {},
   "outputs": [],
   "source": [
    "shub_wfs_df_cc"
   ]
  },
  {
   "cell_type": "markdown",
   "metadata": {},
   "source": [
    "Izberemo zanimive posnetke, recimo enega v posameznem letu delovanja Sentinela-2:  \n",
    "2015-07-11  \n",
    "2016-08-14  \n",
    "2017-07-20  "
   ]
  },
  {
   "cell_type": "code",
   "execution_count": null,
   "metadata": {
    "scrolled": true
   },
   "outputs": [],
   "source": [
    "# Definiramo datume\n",
    "kranj_dates_aug = [\"2015-07-11\", \"2016-08-14\", \"2017-07-20\"]\n",
    "# Izberemo samo vrstice s temi datumi\n",
    "shub_wfs_df_sel = shub_wfs_df_cc[shub_wfs_df_cc['date'].isin(kranj_dates_aug)]"
   ]
  },
  {
   "cell_type": "code",
   "execution_count": null,
   "metadata": {
    "scrolled": true
   },
   "outputs": [],
   "source": [
    "shub_wfs_df_sel"
   ]
  },
  {
   "cell_type": "markdown",
   "metadata": {},
   "source": [
    "## Določitev podatkovnih nizov"
   ]
  },
  {
   "cell_type": "code",
   "execution_count": null,
   "metadata": {},
   "outputs": [],
   "source": [
    "# Prenesemo kanala 4 in 8, ki ju rabimo za izračun NDVI\n",
    "bands = ['B08', 'B04']\n",
    "# Metapodatki\n",
    "metafiles = ['tileInfo', 'preview', 'qi/MSK_CLOUDS_B00']\n",
    "# Mapa z datotekami\n",
    "data_folder = './posnetki'"
   ]
  },
  {
   "cell_type": "markdown",
   "metadata": {},
   "source": [
    "## Prikaz posnetka"
   ]
  },
  {
   "cell_type": "code",
   "execution_count": null,
   "metadata": {},
   "outputs": [],
   "source": [
    "kranj_prvi_id = shub_wfs_df_sel[\"id\"].iloc[0]"
   ]
  },
  {
   "cell_type": "code",
   "execution_count": null,
   "metadata": {},
   "outputs": [],
   "source": [
    "tile_name, time, aws_index = shub.AwsTile.tile_id_to_tile(kranj_prvi_id)\n",
    "request = shub.AwsTileRequest(tile=tile_name, time=time, aws_index=aws_index,\n",
    "                              bands=bands, metafiles=metafiles, data_folder=data_folder)"
   ]
  },
  {
   "cell_type": "code",
   "execution_count": null,
   "metadata": {},
   "outputs": [],
   "source": [
    "data_list = request.get_data()"
   ]
  },
  {
   "cell_type": "code",
   "execution_count": null,
   "metadata": {},
   "outputs": [],
   "source": [
    "b8a, b10, tile_info, preview, cloud_mask = data_list"
   ]
  },
  {
   "cell_type": "code",
   "execution_count": null,
   "metadata": {
    "scrolled": true
   },
   "outputs": [],
   "source": [
    "plt.imshow(preview)"
   ]
  },
  {
   "cell_type": "code",
   "execution_count": null,
   "metadata": {
    "scrolled": true
   },
   "outputs": [],
   "source": [
    "# 8 kanal\n",
    "# plt.imshow(b8a, cmap='gray')\n",
    "plt.imshow(b8a)"
   ]
  },
  {
   "cell_type": "markdown",
   "metadata": {},
   "source": [
    "## Prenos podatkov\n",
    "\n",
    "Prenesemo vse tri posnetke."
   ]
  },
  {
   "cell_type": "code",
   "execution_count": null,
   "metadata": {
    "scrolled": true
   },
   "outputs": [],
   "source": [
    "for index, row in shub_wfs_df_sel.iterrows():\n",
    "    print('Prenašam ', row[\"date\"].strftime('%Y-%m-%d'))\n",
    "    tile_id = row[\"id\"]\n",
    "    tile_name, time, aws_index = shub.AwsTile.tile_id_to_tile(tile_id)\n",
    "    print(\"Tile ID: \", tile_id)\n",
    "    print(\"Tile: \", tile_name)\n",
    "    request = shub.AwsTileRequest(tile=tile_name, time=time, aws_index=aws_index,\n",
    "                                  bands=bands, metafiles=metafiles, data_folder=data_folder)\n",
    "    request.save_data()"
   ]
  }
 ],
 "metadata": {
  "kernelspec": {
   "display_name": "Python 3",
   "language": "python",
   "name": "python3"
  },
  "language_info": {
   "codemirror_mode": {
    "name": "ipython",
    "version": 3
   },
   "file_extension": ".py",
   "mimetype": "text/x-python",
   "name": "python",
   "nbconvert_exporter": "python",
   "pygments_lexer": "ipython3",
   "version": "3.6.5"
  }
 },
 "nbformat": 4,
 "nbformat_minor": 2
}
