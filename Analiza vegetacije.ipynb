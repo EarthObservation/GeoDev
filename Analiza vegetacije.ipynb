{
 "cells": [
  {
   "cell_type": "markdown",
   "metadata": {},
   "source": [
    "# Analiza vegetacije\n",
    "\n",
    "Satelitski posentki omogočajo pogosto opazovanje velikih površin. Opazujemo lahko stanje in pojave na površju, pri čemer se pogosto usmerjamo na vegetacijo. Staneje vegetacije lahko analiziramo z uporabo podatkov v vidnem in inradrečem delu elektromagnetnega spektra. Satelit Sentinel-2 ima več kanalov, ki so še posebej primerni za spremljanje raslinja.\n",
    "\n",
    "| Sentinel-2 kanal             | Valovna dolžina (µm) | Ločljivost (m) | Širina kanala (nm) |\n",
    "|------------------------------|----------------------|----------------|--------------------|\n",
    "| Band 1 – Coastal aerosol     | 0.443                | 60             | 27/45 (2A/2B)      |\n",
    "| Band 2 – Blue                | 0.490                | 10             | 98                 |\n",
    "| Band 3 – Green               | 0.560                | 10             | 45/46 (2A/2B)      |\n",
    "| Band 4 – Red                 | 0.665                | 10             | 38/39 (2A/2B)      |\n",
    "| Band 5 – Vegetation Red Edge | 0.705                | 20             | 19/20 (2A/2B)      |\n",
    "| Band 6 – Vegetation Red Edge | 0.740                | 20             | 18                 |\n",
    "| Band 7 – Vegetation Red Edge | 0.783                | 20             | 28                 |\n",
    "| Band 8 – NIR                 | 0.842                | 10             | 115                |\n",
    "| Band 8A – Narrow NIR         | 0.865                | 20             | 20                 |\n",
    "| Band 9 – Water vapour        | 0.945                | 60             | 20                 |\n",
    "| Band 10 – SWIR – Cirrus      | 1.375                | 60             | 20                 |\n",
    "| Band 11 – SWIR               | 1.610                | 20             | 90                 |\n",
    "| Band 12 – SWIR               | 2.190                | 20             | 180                |"
   ]
  },
  {
   "cell_type": "markdown",
   "metadata": {},
   "source": [
    "## Normiran diferencialni vegetacijski indeks NDVI\n",
    "\n",
    "Ko želimo opisati stanje vegetacije najpogosteje uporabimo normiran diferencialni vegetacijski indeks NDVI. NDVI je bil razvit za opazovanje stanja vegetacije na večjih območjih, na primer na kontinentih ali na celotni Zemlji. NDVI\n",
    "predstavlja razmerje med razliko infrardečega in rdečega kanala in njuno vsoto:\n",
    "\n",
    "$$NDVI = \\frac{NIR - R}{NIR + R} = \\frac{Band_8 - Band_4}{Band_8 + Band_4}$$\n",
    "\n",
    "Indeks NDVI zavzame vrednosti med −1 in +1, pri čemer višje vrednosti pomenijo bolj intenzivno vegetacijo."
   ]
  },
  {
   "cell_type": "code",
   "execution_count": null,
   "metadata": {},
   "outputs": [],
   "source": [
    "# Potrebne knjižnice\n",
    "import numpy as np\n",
    "import matplotlib.pyplot as plt\n",
    "import glob\n",
    "from osgeo import gdal\n",
    "%matplotlib inline"
   ]
  },
  {
   "cell_type": "code",
   "execution_count": null,
   "metadata": {},
   "outputs": [],
   "source": [
    "%%javascript\n",
    "IPython.OutputArea.auto_scroll_threshold = 9999;"
   ]
  },
  {
   "cell_type": "code",
   "execution_count": null,
   "metadata": {},
   "outputs": [],
   "source": [
    "# Velikost grafikonov\n",
    "plt.rcParams['figure.figsize'] = [12, 8]"
   ]
  },
  {
   "cell_type": "markdown",
   "metadata": {},
   "source": [
    "## Branje podatkov\n",
    "\n",
    "Posamezni kanali satelitskih posnetkov Sentinel-2 so v zapisu JPEG2000. Sam format je sicer zelo zapleten, poleg kanalov v različnih ločljivostih vsebuje tudi metapodatke, in je dobro dokumentiran [Sentinel-2 MSI User Guides](https://sentinel.esa.int/web/sentinel/user-guides/sentinel-2-msi/data-formats).\n",
    "\n",
    "Format JPEG2000 je podprt v navoejših različicah knjižnice GDAL. Preberemo jih v matriko NumPy."
   ]
  },
  {
   "cell_type": "code",
   "execution_count": null,
   "metadata": {},
   "outputs": [],
   "source": [
    "# Mapa s podatki\n",
    "data_folder = \"./posnetki_sub/\""
   ]
  },
  {
   "cell_type": "code",
   "execution_count": null,
   "metadata": {},
   "outputs": [],
   "source": [
    "# Seznam posnetkov v mapi\n",
    "s2_data = glob.glob(data_folder + '*.jp2')"
   ]
  },
  {
   "cell_type": "code",
   "execution_count": null,
   "metadata": {},
   "outputs": [],
   "source": [
    "s2_data"
   ]
  },
  {
   "cell_type": "code",
   "execution_count": null,
   "metadata": {},
   "outputs": [],
   "source": [
    "# Imena datotek\n",
    "s2_b4_fn = s2_data[0]\n",
    "s2_b8_fn = s2_data[1]"
   ]
  },
  {
   "cell_type": "code",
   "execution_count": null,
   "metadata": {},
   "outputs": [],
   "source": [
    "# Odpremo datoteki\n",
    "s2_b4_ds = gdal.Open(s2_b4_fn)\n",
    "s2_b8_ds = gdal.Open(s2_b8_fn)"
   ]
  },
  {
   "cell_type": "markdown",
   "metadata": {},
   "source": [
    "## Podatki o posnetku"
   ]
  },
  {
   "cell_type": "code",
   "execution_count": null,
   "metadata": {
    "scrolled": true
   },
   "outputs": [],
   "source": [
    "s2_b8_ds.GetProjection()"
   ]
  },
  {
   "cell_type": "code",
   "execution_count": null,
   "metadata": {},
   "outputs": [],
   "source": [
    "s2_b8_ds.GetGeoTransform()"
   ]
  },
  {
   "cell_type": "code",
   "execution_count": null,
   "metadata": {},
   "outputs": [],
   "source": [
    "s2_b8_ds.RasterCount"
   ]
  },
  {
   "cell_type": "markdown",
   "metadata": {},
   "source": [
    "## Preberemo R in IR kanal"
   ]
  },
  {
   "cell_type": "code",
   "execution_count": null,
   "metadata": {},
   "outputs": [],
   "source": [
    "# Kanal 4\n",
    "s2_b4_band = s2_b4_ds.GetRasterBand(1)\n",
    "# Preberemo v matriko\n",
    "s2_b4 = s2_b4_band.ReadAsArray().astype(float)\n",
    "# Vrednost 0 je nan\n",
    "s2_b4[s2_b4 == 0] = np.nan"
   ]
  },
  {
   "cell_type": "code",
   "execution_count": null,
   "metadata": {},
   "outputs": [],
   "source": [
    "# Kanal 8\n",
    "s2_b8_band = s2_b8_ds.GetRasterBand(1)\n",
    "# Preberemo v matriko\n",
    "s2_b8 = s2_b8_band.ReadAsArray().astype(float)\n",
    "# Vrednost 0 je nan\n",
    "s2_b8[s2_b8 == 0] = np.nan"
   ]
  },
  {
   "cell_type": "markdown",
   "metadata": {},
   "source": [
    "## Prikažemo oba kanala"
   ]
  },
  {
   "cell_type": "code",
   "execution_count": null,
   "metadata": {},
   "outputs": [],
   "source": [
    "# NIR\n",
    "plt.imshow(s2_b4)\n",
    "plt.colorbar()"
   ]
  },
  {
   "cell_type": "code",
   "execution_count": null,
   "metadata": {},
   "outputs": [],
   "source": [
    "# IR\n",
    "plt.imshow(s2_b8)\n",
    "plt.colorbar()"
   ]
  },
  {
   "cell_type": "code",
   "execution_count": null,
   "metadata": {
    "scrolled": true
   },
   "outputs": [],
   "source": [
    "# Histogram kanala 8\n",
    "plt.hist(s2_b8[~np.isnan(s2_b8)], 50)"
   ]
  },
  {
   "cell_type": "code",
   "execution_count": null,
   "metadata": {},
   "outputs": [],
   "source": [
    "s2_b4_flat = s2_b4.flat\n",
    "s2_b8_flat = s2_b8.flat"
   ]
  },
  {
   "cell_type": "code",
   "execution_count": null,
   "metadata": {},
   "outputs": [],
   "source": [
    "# Decimiramo\n",
    "idx = np.random.choice(np.arange(len(s2_b4_flat)), 10000, replace=False)\n",
    "s2_b4_sample = s2_b4.flat[idx]\n",
    "s2_b8_sample = s2_b8.flat[idx]\n",
    "# Razsevni diagram\n",
    "plt.figure(figsize=(8,8))\n",
    "plt.scatter(s2_b4_sample, s2_b8_sample, marker=\".\", s=1)\n",
    "plt.show()"
   ]
  },
  {
   "cell_type": "markdown",
   "metadata": {},
   "source": [
    "## Izračunajmo NDVI\n",
    "\n",
    "Za prenešene posnetke izračunamo NDVI. Upoštevali bomo rdeči (4) in infrardeči kanal (8). Če imamo masko podatkov, lahko upoštevamo tudi manjkajoče podatke. NumPy obvlada deljenje z 0 (vrne ni vrednosti, to je `np.nan`), lahko pa matriki dodamo masko ali pa manjkajoče vrednsoti označimo sami."
   ]
  },
  {
   "cell_type": "code",
   "execution_count": null,
   "metadata": {},
   "outputs": [],
   "source": [
    "# Definirajmo funkcijo NDVI\n",
    "def ndvi(red, nir):\n",
    "    \"\"\"Calculate NDVI.\"\"\"\n",
    "    return (nir - red) / (nir + red)"
   ]
  },
  {
   "cell_type": "code",
   "execution_count": null,
   "metadata": {},
   "outputs": [],
   "source": [
    "# Kanala pretvorimo v float\n",
    "s2_b4_f = s2_b4.astype(float)\n",
    "s2_b8_f = s2_b8.astype(float)"
   ]
  },
  {
   "cell_type": "code",
   "execution_count": null,
   "metadata": {},
   "outputs": [],
   "source": [
    "s2_ndvi = ndvi(s2_b4_f, s2_b8)"
   ]
  },
  {
   "cell_type": "code",
   "execution_count": null,
   "metadata": {
    "scrolled": true
   },
   "outputs": [],
   "source": [
    "# NDVI\n",
    "plt.imshow(s2_ndvi, cmap='RdYlGn')\n",
    "plt.colorbar()"
   ]
  },
  {
   "cell_type": "code",
   "execution_count": null,
   "metadata": {},
   "outputs": [],
   "source": [
    "# Histogram\n",
    "plt.hist(s2_ndvi[~np.isnan(s2_ndvi)], 100)\n",
    "plt.savefig(\"test.pdf\")"
   ]
  },
  {
   "cell_type": "markdown",
   "metadata": {},
   "source": [
    "## Shranimo NDVI v datoteko"
   ]
  },
  {
   "cell_type": "code",
   "execution_count": null,
   "metadata": {},
   "outputs": [],
   "source": [
    "# Ime datoteke\n",
    "s2_ndvi_fn = s2_b4_fn[:-7] + \"NDVI.tif\""
   ]
  },
  {
   "cell_type": "code",
   "execution_count": null,
   "metadata": {},
   "outputs": [],
   "source": [
    "driver = gdal.GetDriverByName('GTiff')\n",
    "ndvi_dataset = driver.Create(s2_ndvi_fn,\n",
    "                             s2_b4_ds.RasterXSize,    # stolpcev\n",
    "                             s2_b4_ds.RasterYSize,    # vrstic\n",
    "                             1,                 # kanalov\n",
    "                             gdal.GDT_Float32)  # tip podatkov\n",
    "ndvi_dataset.SetProjection(s2_b4_ds.GetProjection())\n",
    "ndvi_dataset.SetGeoTransform(s2_b4_ds.GetGeoTransform())\n",
    "\n",
    "# no data je -1\n",
    "ndvi_band = ndvi_dataset.GetRasterBand(1)\n",
    "ndvi_band.SetNoDataValue(-1)\n",
    "\n",
    "# And finally, let's write our NDVI array.\n",
    "ndvi_band.WriteArray(s2_ndvi)"
   ]
  },
  {
   "cell_type": "markdown",
   "metadata": {},
   "source": [
    "## Določitev območij vegetacije\n",
    "\n",
    "Najprej določimo prag za vegetacijo, nato izdelamo masko samo vegetacije."
   ]
  },
  {
   "cell_type": "code",
   "execution_count": null,
   "metadata": {},
   "outputs": [],
   "source": [
    "ndvi_tr = 0.2"
   ]
  },
  {
   "cell_type": "code",
   "execution_count": null,
   "metadata": {},
   "outputs": [],
   "source": [
    "s2_veg = np.copy(s2_ndvi)\n",
    "s2_veg[s2_ndvi >= ndvi_tr] = 1\n",
    "s2_veg[s2_ndvi < ndvi_tr] = 0"
   ]
  },
  {
   "cell_type": "code",
   "execution_count": null,
   "metadata": {},
   "outputs": [],
   "source": [
    "# Prikaz maske vegetacije\n",
    "plt.imshow(s2_veg, cmap='RdYlGn')\n",
    "plt.colorbar()"
   ]
  }
 ],
 "metadata": {
  "kernelspec": {
   "display_name": "Python 3",
   "language": "python",
   "name": "python3"
  },
  "language_info": {
   "codemirror_mode": {
    "name": "ipython",
    "version": 3
   },
   "file_extension": ".py",
   "mimetype": "text/x-python",
   "name": "python",
   "nbconvert_exporter": "python",
   "pygments_lexer": "ipython3",
   "version": "3.6.5"
  }
 },
 "nbformat": 4,
 "nbformat_minor": 2
}
