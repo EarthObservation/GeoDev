{
 "cells": [
  {
   "cell_type": "markdown",
   "metadata": {},
   "source": [
    "# Analiza časovne vrste podatkov Sentinel-2\n",
    "\n",
    "Analizirali bomo časovno vrsto vegetacijskioh indeksov dobljenih iz podatkov satelita Sentinel-2"
   ]
  },
  {
   "cell_type": "code",
   "execution_count": 1,
   "metadata": {},
   "outputs": [],
   "source": [
    "# Knjižnice\n",
    "import requests\n",
    "import json\n",
    "import pandas as pd\n",
    "from pandas.io.json import json_normalize\n",
    "import matplotlib.pyplot as plt"
   ]
  },
  {
   "cell_type": "code",
   "execution_count": 2,
   "metadata": {},
   "outputs": [],
   "source": [
    "%matplotlib inline"
   ]
  },
  {
   "cell_type": "code",
   "execution_count": 3,
   "metadata": {},
   "outputs": [],
   "source": [
    "# Velikost grafikonov\n",
    "plt.rcParams['figure.figsize'] = [10, 8]"
   ]
  },
  {
   "cell_type": "code",
   "execution_count": 4,
   "metadata": {},
   "outputs": [],
   "source": [
    "# ID ključ mora biti definiran, preberemo ga iz datoteke\n",
    "sentinelhub_id = 'sentinelhub.id'\n",
    "f = open(sentinelhub_id,'r')\n",
    "exec(f.readline())"
   ]
  },
  {
   "cell_type": "code",
   "execution_count": 5,
   "metadata": {},
   "outputs": [
    {
     "name": "stdout",
     "output_type": "stream",
     "text": [
      "Sentinel Hub INSTANCE_ID obstaja\n",
      "f20f09f6-2bc3-46ed-8e96-438b69e367da\n"
     ]
    }
   ],
   "source": [
    "if 'INSTANCE_ID' in locals():\n",
    "    print(\"Sentinel Hub INSTANCE_ID obstaja\")\n",
    "    print(INSTANCE_ID)"
   ]
  },
  {
   "cell_type": "code",
   "execution_count": 6,
   "metadata": {},
   "outputs": [],
   "source": [
    "# Parametri za iskanje\n",
    "shub_url_base=\"http://services.sentinel-hub.com/ogc/fis/\"\n",
    "# Ločljivost 10 m\n",
    "res=\"&RESOLUTION=10m\"\n",
    "# Gledamo vse posnetke\n",
    "maxcc=\"&MAXCC=100\""
   ]
  },
  {
   "cell_type": "markdown",
   "metadata": {},
   "source": [
    "## Območje\n",
    "\n",
    "Začnemo z enostavnim poligonom."
   ]
  },
  {
   "cell_type": "code",
   "execution_count": 7,
   "metadata": {},
   "outputs": [],
   "source": [
    "crs=\"EPSG:4326\"\n",
    "geometry_fn=\"podatki/kranj_rupa.wkt\""
   ]
  },
  {
   "cell_type": "code",
   "execution_count": 8,
   "metadata": {},
   "outputs": [],
   "source": [
    "with open(geometry_fn, 'r') as geo_file:\n",
    "  geometry = geo_file.read()\n",
    "time = \"2015-01-01/2018-12-31\""
   ]
  },
  {
   "cell_type": "markdown",
   "metadata": {},
   "source": [
    "## Poizvedba\n",
    "\n",
    "Preberemo celotno časovno vrsto."
   ]
  },
  {
   "cell_type": "code",
   "execution_count": 9,
   "metadata": {},
   "outputs": [
    {
     "data": {
      "text/plain": [
       "'http://services.sentinel-hub.com/ogc/fis/f20f09f6-2bc3-46ed-8e96-438b69e367da?LAYER=NDVI-CLOUDS&STYLE=INDEX&CRS=EPSG:4326&TIME=2015-01-01/2018-12-31&GEOMETRY=POLYGON ((46.25707083080395 14.361464381217955, 46.25641802763134 14.361330270767212, 46.256362390637904 14.362172484397888, 46.25658864739251 14.362376332283022, 46.25699293992463 14.363197088241579, 46.25709679440581 14.362092018127441, 46.25707083080395 14.361464381217955))&RESOLUTION=10m&MAXCC=100'"
      ]
     },
     "execution_count": 9,
     "metadata": {},
     "output_type": "execute_result"
    }
   ],
   "source": [
    "# shub_url=shub_url_base+INSTANCE_ID+\"?LAYER=VEGETATION_INDEX&STYLE=INDEX&CRS=\"+crs+\"&TIME=\"+time+\"&GEOMETRY=\"+geometry+res+maxcc\n",
    "shub_url=shub_url_base+INSTANCE_ID+\"?LAYER=NDVI-CLOUDS&STYLE=INDEX&CRS=\"+crs+\"&TIME=\"+time+\"&GEOMETRY=\"+geometry+res+maxcc\n",
    "# shub_url = \"http://services.sentinel-hub.com/ogc/fis/fe3a2277-a307-4ef0-b335-7f0145657768?LAYER=VEGETATION_INDEX&STYLE=INDEX&CRS=EPSG%3A3857&TIME=2015-01-01%2F2018-10-01&BBOX=1550369.86,5586056.25,1547498.69,5584861.92&RESOLUTION=10&MAXCC=5\"\n",
    "shub_url"
   ]
  },
  {
   "cell_type": "markdown",
   "metadata": {},
   "source": [
    "## Prenos podatkov\n",
    "\n",
    "Časovno vrsto prenesemo v obliki JSON."
   ]
  },
  {
   "cell_type": "code",
   "execution_count": 10,
   "metadata": {},
   "outputs": [],
   "source": [
    "r=requests.get(shub_url)\n",
    "contents = json.loads(r.content.decode())"
   ]
  },
  {
   "cell_type": "code",
   "execution_count": 13,
   "metadata": {},
   "outputs": [
    {
     "data": {
      "text/html": [
       "<div>\n",
       "<style scoped>\n",
       "    .dataframe tbody tr th:only-of-type {\n",
       "        vertical-align: middle;\n",
       "    }\n",
       "\n",
       "    .dataframe tbody tr th {\n",
       "        vertical-align: top;\n",
       "    }\n",
       "\n",
       "    .dataframe thead th {\n",
       "        text-align: right;\n",
       "    }\n",
       "</style>\n",
       "<table border=\"1\" class=\"dataframe\">\n",
       "  <thead>\n",
       "    <tr style=\"text-align: right;\">\n",
       "      <th></th>\n",
       "      <th>basicStats.max</th>\n",
       "      <th>basicStats.mean</th>\n",
       "      <th>basicStats.min</th>\n",
       "      <th>basicStats.stDev</th>\n",
       "      <th>date</th>\n",
       "    </tr>\n",
       "  </thead>\n",
       "  <tbody>\n",
       "    <tr>\n",
       "      <th>0</th>\n",
       "      <td>0.203662</td>\n",
       "      <td>0.140845</td>\n",
       "      <td>0.111700</td>\n",
       "      <td>0.018787</td>\n",
       "      <td>2018-06-30</td>\n",
       "    </tr>\n",
       "    <tr>\n",
       "      <th>1</th>\n",
       "      <td>0.061092</td>\n",
       "      <td>0.052540</td>\n",
       "      <td>0.045395</td>\n",
       "      <td>0.003385</td>\n",
       "      <td>2018-06-25</td>\n",
       "    </tr>\n",
       "    <tr>\n",
       "      <th>2</th>\n",
       "      <td>0.784255</td>\n",
       "      <td>0.688024</td>\n",
       "      <td>0.363063</td>\n",
       "      <td>0.121820</td>\n",
       "      <td>2018-06-20</td>\n",
       "    </tr>\n",
       "    <tr>\n",
       "      <th>3</th>\n",
       "      <td>0.363138</td>\n",
       "      <td>0.253455</td>\n",
       "      <td>0.172395</td>\n",
       "      <td>0.053041</td>\n",
       "      <td>2018-06-15</td>\n",
       "    </tr>\n",
       "    <tr>\n",
       "      <th>4</th>\n",
       "      <td>0.774577</td>\n",
       "      <td>0.693728</td>\n",
       "      <td>0.493108</td>\n",
       "      <td>0.049008</td>\n",
       "      <td>2018-06-10</td>\n",
       "    </tr>\n",
       "  </tbody>\n",
       "</table>\n",
       "</div>"
      ],
      "text/plain": [
       "   basicStats.max  basicStats.mean  basicStats.min  basicStats.stDev  \\\n",
       "0        0.203662         0.140845        0.111700          0.018787   \n",
       "1        0.061092         0.052540        0.045395          0.003385   \n",
       "2        0.784255         0.688024        0.363063          0.121820   \n",
       "3        0.363138         0.253455        0.172395          0.053041   \n",
       "4        0.774577         0.693728        0.493108          0.049008   \n",
       "\n",
       "         date  \n",
       "0  2018-06-30  \n",
       "1  2018-06-25  \n",
       "2  2018-06-20  \n",
       "3  2018-06-15  \n",
       "4  2018-06-10  "
      ]
     },
     "execution_count": 13,
     "metadata": {},
     "output_type": "execute_result"
    }
   ],
   "source": [
    "# Ustvarimo pandas dataframe\n",
    "df = json_normalize(contents['C0'])\n",
    "df.head()"
   ]
  },
  {
   "cell_type": "code",
   "execution_count": 14,
   "metadata": {},
   "outputs": [
    {
     "data": {
      "text/html": [
       "<div>\n",
       "<style scoped>\n",
       "    .dataframe tbody tr th:only-of-type {\n",
       "        vertical-align: middle;\n",
       "    }\n",
       "\n",
       "    .dataframe tbody tr th {\n",
       "        vertical-align: top;\n",
       "    }\n",
       "\n",
       "    .dataframe thead th {\n",
       "        text-align: right;\n",
       "    }\n",
       "</style>\n",
       "<table border=\"1\" class=\"dataframe\">\n",
       "  <thead>\n",
       "    <tr style=\"text-align: right;\">\n",
       "      <th></th>\n",
       "      <th>basicStats.max</th>\n",
       "      <th>basicStats.mean</th>\n",
       "      <th>basicStats.min</th>\n",
       "      <th>basicStats.stDev</th>\n",
       "      <th>date</th>\n",
       "      <th>clouds</th>\n",
       "    </tr>\n",
       "  </thead>\n",
       "  <tbody>\n",
       "    <tr>\n",
       "      <th>0</th>\n",
       "      <td>0.203662</td>\n",
       "      <td>0.140845</td>\n",
       "      <td>0.111700</td>\n",
       "      <td>0.018787</td>\n",
       "      <td>2018-06-30</td>\n",
       "      <td>1.000000</td>\n",
       "    </tr>\n",
       "    <tr>\n",
       "      <th>1</th>\n",
       "      <td>0.061092</td>\n",
       "      <td>0.052540</td>\n",
       "      <td>0.045395</td>\n",
       "      <td>0.003385</td>\n",
       "      <td>2018-06-25</td>\n",
       "      <td>1.000000</td>\n",
       "    </tr>\n",
       "    <tr>\n",
       "      <th>2</th>\n",
       "      <td>0.784255</td>\n",
       "      <td>0.688024</td>\n",
       "      <td>0.363063</td>\n",
       "      <td>0.121820</td>\n",
       "      <td>2018-06-20</td>\n",
       "      <td>0.000000</td>\n",
       "    </tr>\n",
       "    <tr>\n",
       "      <th>3</th>\n",
       "      <td>0.363138</td>\n",
       "      <td>0.253455</td>\n",
       "      <td>0.172395</td>\n",
       "      <td>0.053041</td>\n",
       "      <td>2018-06-15</td>\n",
       "      <td>0.457518</td>\n",
       "    </tr>\n",
       "    <tr>\n",
       "      <th>4</th>\n",
       "      <td>0.774577</td>\n",
       "      <td>0.693728</td>\n",
       "      <td>0.493108</td>\n",
       "      <td>0.049008</td>\n",
       "      <td>2018-06-10</td>\n",
       "      <td>0.000000</td>\n",
       "    </tr>\n",
       "  </tbody>\n",
       "</table>\n",
       "</div>"
      ],
      "text/plain": [
       "   basicStats.max  basicStats.mean  basicStats.min  basicStats.stDev  \\\n",
       "0        0.203662         0.140845        0.111700          0.018787   \n",
       "1        0.061092         0.052540        0.045395          0.003385   \n",
       "2        0.784255         0.688024        0.363063          0.121820   \n",
       "3        0.363138         0.253455        0.172395          0.053041   \n",
       "4        0.774577         0.693728        0.493108          0.049008   \n",
       "\n",
       "         date    clouds  \n",
       "0  2018-06-30  1.000000  \n",
       "1  2018-06-25  1.000000  \n",
       "2  2018-06-20  0.000000  \n",
       "3  2018-06-15  0.457518  \n",
       "4  2018-06-10  0.000000  "
      ]
     },
     "execution_count": 14,
     "metadata": {},
     "output_type": "execute_result"
    }
   ],
   "source": [
    "# Dodamo še povprečno oblačnost v poligonu\n",
    "df[\"clouds\"] = json_normalize(contents['C1'])[\"basicStats.mean\"]\n",
    "df.head()"
   ]
  },
  {
   "cell_type": "code",
   "execution_count": 15,
   "metadata": {},
   "outputs": [
    {
     "data": {
      "text/html": [
       "<div>\n",
       "<style scoped>\n",
       "    .dataframe tbody tr th:only-of-type {\n",
       "        vertical-align: middle;\n",
       "    }\n",
       "\n",
       "    .dataframe tbody tr th {\n",
       "        vertical-align: top;\n",
       "    }\n",
       "\n",
       "    .dataframe thead th {\n",
       "        text-align: right;\n",
       "    }\n",
       "</style>\n",
       "<table border=\"1\" class=\"dataframe\">\n",
       "  <thead>\n",
       "    <tr style=\"text-align: right;\">\n",
       "      <th></th>\n",
       "      <th>basicStats.max</th>\n",
       "      <th>basicStats.mean</th>\n",
       "      <th>basicStats.min</th>\n",
       "      <th>basicStats.stDev</th>\n",
       "      <th>clouds</th>\n",
       "    </tr>\n",
       "    <tr>\n",
       "      <th>date</th>\n",
       "      <th></th>\n",
       "      <th></th>\n",
       "      <th></th>\n",
       "      <th></th>\n",
       "      <th></th>\n",
       "    </tr>\n",
       "  </thead>\n",
       "  <tbody>\n",
       "    <tr>\n",
       "      <th>2018-06-30</th>\n",
       "      <td>0.203662</td>\n",
       "      <td>0.140845</td>\n",
       "      <td>0.111700</td>\n",
       "      <td>0.018787</td>\n",
       "      <td>1.000000</td>\n",
       "    </tr>\n",
       "    <tr>\n",
       "      <th>2018-06-25</th>\n",
       "      <td>0.061092</td>\n",
       "      <td>0.052540</td>\n",
       "      <td>0.045395</td>\n",
       "      <td>0.003385</td>\n",
       "      <td>1.000000</td>\n",
       "    </tr>\n",
       "    <tr>\n",
       "      <th>2018-06-20</th>\n",
       "      <td>0.784255</td>\n",
       "      <td>0.688024</td>\n",
       "      <td>0.363063</td>\n",
       "      <td>0.121820</td>\n",
       "      <td>0.000000</td>\n",
       "    </tr>\n",
       "    <tr>\n",
       "      <th>2018-06-15</th>\n",
       "      <td>0.363138</td>\n",
       "      <td>0.253455</td>\n",
       "      <td>0.172395</td>\n",
       "      <td>0.053041</td>\n",
       "      <td>0.457518</td>\n",
       "    </tr>\n",
       "    <tr>\n",
       "      <th>2018-06-10</th>\n",
       "      <td>0.774577</td>\n",
       "      <td>0.693728</td>\n",
       "      <td>0.493108</td>\n",
       "      <td>0.049008</td>\n",
       "      <td>0.000000</td>\n",
       "    </tr>\n",
       "  </tbody>\n",
       "</table>\n",
       "</div>"
      ],
      "text/plain": [
       "            basicStats.max  basicStats.mean  basicStats.min  basicStats.stDev  \\\n",
       "date                                                                            \n",
       "2018-06-30        0.203662         0.140845        0.111700          0.018787   \n",
       "2018-06-25        0.061092         0.052540        0.045395          0.003385   \n",
       "2018-06-20        0.784255         0.688024        0.363063          0.121820   \n",
       "2018-06-15        0.363138         0.253455        0.172395          0.053041   \n",
       "2018-06-10        0.774577         0.693728        0.493108          0.049008   \n",
       "\n",
       "              clouds  \n",
       "date                  \n",
       "2018-06-30  1.000000  \n",
       "2018-06-25  1.000000  \n",
       "2018-06-20  0.000000  \n",
       "2018-06-15  0.457518  \n",
       "2018-06-10  0.000000  "
      ]
     },
     "execution_count": 15,
     "metadata": {},
     "output_type": "execute_result"
    }
   ],
   "source": [
    "# Stolpec date pretvorimo v datum in naredimo indeks\n",
    "df['date'] = pd.to_datetime(df['date'], format='%Y-%m-%d')\n",
    "df = df.set_index(\"date\")\n",
    "df.head()"
   ]
  },
  {
   "cell_type": "code",
   "execution_count": 19,
   "metadata": {
    "scrolled": true
   },
   "outputs": [],
   "source": [
    "# Podatke shranimo v datoteko\n",
    "df_fn = \"podatki/kranj_rupa.csv\"\n",
    "df.to_csv(df_fn)"
   ]
  },
  {
   "cell_type": "code",
   "execution_count": 17,
   "metadata": {},
   "outputs": [
    {
     "data": {
      "image/png": "[encoded data removed]",
      "text/plain": [
       "<Figure size 720x576 with 1 Axes>"
      ]
     },
     "metadata": {},
     "output_type": "display_data"
    }
   ],
   "source": [
    "# Izrišemo graf oblačnosti\n",
    "plt.plot(df[\"clouds\"], linestyle='-', marker='o', color=\"b\", alpha=0.8)\n",
    "plt.fill_between(df.index, df[\"clouds\"], alpha=0.3)\n",
    "plt.show()"
   ]
  },
  {
   "cell_type": "markdown",
   "metadata": {},
   "source": [
    "## Maskiranje podatkov z oblaki"
   ]
  },
  {
   "cell_type": "code",
   "execution_count": 21,
   "metadata": {},
   "outputs": [
    {
     "data": {
      "text/html": [
       "<div>\n",
       "<style scoped>\n",
       "    .dataframe tbody tr th:only-of-type {\n",
       "        vertical-align: middle;\n",
       "    }\n",
       "\n",
       "    .dataframe tbody tr th {\n",
       "        vertical-align: top;\n",
       "    }\n",
       "\n",
       "    .dataframe thead th {\n",
       "        text-align: right;\n",
       "    }\n",
       "</style>\n",
       "<table border=\"1\" class=\"dataframe\">\n",
       "  <thead>\n",
       "    <tr style=\"text-align: right;\">\n",
       "      <th></th>\n",
       "      <th>basicStats.max</th>\n",
       "      <th>basicStats.mean</th>\n",
       "      <th>basicStats.min</th>\n",
       "      <th>basicStats.stDev</th>\n",
       "      <th>clouds</th>\n",
       "    </tr>\n",
       "    <tr>\n",
       "      <th>date</th>\n",
       "      <th></th>\n",
       "      <th></th>\n",
       "      <th></th>\n",
       "      <th></th>\n",
       "      <th></th>\n",
       "    </tr>\n",
       "  </thead>\n",
       "  <tbody>\n",
       "    <tr>\n",
       "      <th>2018-06-30</th>\n",
       "      <td>NaN</td>\n",
       "      <td>NaN</td>\n",
       "      <td>NaN</td>\n",
       "      <td>NaN</td>\n",
       "      <td>NaN</td>\n",
       "    </tr>\n",
       "    <tr>\n",
       "      <th>2018-06-25</th>\n",
       "      <td>NaN</td>\n",
       "      <td>NaN</td>\n",
       "      <td>NaN</td>\n",
       "      <td>NaN</td>\n",
       "      <td>NaN</td>\n",
       "    </tr>\n",
       "    <tr>\n",
       "      <th>2018-06-20</th>\n",
       "      <td>0.784255</td>\n",
       "      <td>0.688024</td>\n",
       "      <td>0.363063</td>\n",
       "      <td>0.121820</td>\n",
       "      <td>0.0</td>\n",
       "    </tr>\n",
       "    <tr>\n",
       "      <th>2018-06-15</th>\n",
       "      <td>NaN</td>\n",
       "      <td>NaN</td>\n",
       "      <td>NaN</td>\n",
       "      <td>NaN</td>\n",
       "      <td>NaN</td>\n",
       "    </tr>\n",
       "    <tr>\n",
       "      <th>2018-06-10</th>\n",
       "      <td>0.774577</td>\n",
       "      <td>0.693728</td>\n",
       "      <td>0.493108</td>\n",
       "      <td>0.049008</td>\n",
       "      <td>0.0</td>\n",
       "    </tr>\n",
       "  </tbody>\n",
       "</table>\n",
       "</div>"
      ],
      "text/plain": [
       "            basicStats.max  basicStats.mean  basicStats.min  basicStats.stDev  \\\n",
       "date                                                                            \n",
       "2018-06-30             NaN              NaN             NaN               NaN   \n",
       "2018-06-25             NaN              NaN             NaN               NaN   \n",
       "2018-06-20        0.784255         0.688024        0.363063          0.121820   \n",
       "2018-06-15             NaN              NaN             NaN               NaN   \n",
       "2018-06-10        0.774577         0.693728        0.493108          0.049008   \n",
       "\n",
       "            clouds  \n",
       "date                \n",
       "2018-06-30     NaN  \n",
       "2018-06-25     NaN  \n",
       "2018-06-20     0.0  \n",
       "2018-06-15     NaN  \n",
       "2018-06-10     0.0  "
      ]
     },
     "execution_count": 21,
     "metadata": {},
     "output_type": "execute_result"
    }
   ],
   "source": [
    "# Izločimo podatke z več kot 10% oblakov\n",
    "df = df.mask(df[\"clouds\"] >= 0.1)\n",
    "df.head()"
   ]
  },
  {
   "cell_type": "code",
   "execution_count": 22,
   "metadata": {
    "scrolled": true
   },
   "outputs": [
    {
     "data": {
      "text/html": [
       "<div>\n",
       "<style scoped>\n",
       "    .dataframe tbody tr th:only-of-type {\n",
       "        vertical-align: middle;\n",
       "    }\n",
       "\n",
       "    .dataframe tbody tr th {\n",
       "        vertical-align: top;\n",
       "    }\n",
       "\n",
       "    .dataframe thead th {\n",
       "        text-align: right;\n",
       "    }\n",
       "</style>\n",
       "<table border=\"1\" class=\"dataframe\">\n",
       "  <thead>\n",
       "    <tr style=\"text-align: right;\">\n",
       "      <th></th>\n",
       "      <th>basicStats.max</th>\n",
       "      <th>basicStats.mean</th>\n",
       "      <th>basicStats.min</th>\n",
       "      <th>basicStats.stDev</th>\n",
       "      <th>clouds</th>\n",
       "    </tr>\n",
       "  </thead>\n",
       "  <tbody>\n",
       "    <tr>\n",
       "      <th>count</th>\n",
       "      <td>66.000000</td>\n",
       "      <td>66.000000</td>\n",
       "      <td>66.000000</td>\n",
       "      <td>66.000000</td>\n",
       "      <td>66.000000</td>\n",
       "    </tr>\n",
       "    <tr>\n",
       "      <th>mean</th>\n",
       "      <td>0.631002</td>\n",
       "      <td>0.456045</td>\n",
       "      <td>0.300826</td>\n",
       "      <td>0.091710</td>\n",
       "      <td>0.003161</td>\n",
       "    </tr>\n",
       "    <tr>\n",
       "      <th>std</th>\n",
       "      <td>0.226260</td>\n",
       "      <td>0.229767</td>\n",
       "      <td>0.190951</td>\n",
       "      <td>0.066840</td>\n",
       "      <td>0.016285</td>\n",
       "    </tr>\n",
       "    <tr>\n",
       "      <th>min</th>\n",
       "      <td>0.037936</td>\n",
       "      <td>0.004727</td>\n",
       "      <td>-0.032019</td>\n",
       "      <td>0.005503</td>\n",
       "      <td>0.000000</td>\n",
       "    </tr>\n",
       "    <tr>\n",
       "      <th>25%</th>\n",
       "      <td>0.553032</td>\n",
       "      <td>0.281048</td>\n",
       "      <td>0.145021</td>\n",
       "      <td>0.036145</td>\n",
       "      <td>0.000000</td>\n",
       "    </tr>\n",
       "    <tr>\n",
       "      <th>50%</th>\n",
       "      <td>0.715336</td>\n",
       "      <td>0.472477</td>\n",
       "      <td>0.282091</td>\n",
       "      <td>0.063429</td>\n",
       "      <td>0.000000</td>\n",
       "    </tr>\n",
       "    <tr>\n",
       "      <th>75%</th>\n",
       "      <td>0.781458</td>\n",
       "      <td>0.675637</td>\n",
       "      <td>0.477146</td>\n",
       "      <td>0.150735</td>\n",
       "      <td>0.000000</td>\n",
       "    </tr>\n",
       "    <tr>\n",
       "      <th>max</th>\n",
       "      <td>0.843791</td>\n",
       "      <td>0.819808</td>\n",
       "      <td>0.668443</td>\n",
       "      <td>0.232010</td>\n",
       "      <td>0.093639</td>\n",
       "    </tr>\n",
       "  </tbody>\n",
       "</table>\n",
       "</div>"
      ],
      "text/plain": [
       "       basicStats.max  basicStats.mean  basicStats.min  basicStats.stDev  \\\n",
       "count       66.000000        66.000000       66.000000         66.000000   \n",
       "mean         0.631002         0.456045        0.300826          0.091710   \n",
       "std          0.226260         0.229767        0.190951          0.066840   \n",
       "min          0.037936         0.004727       -0.032019          0.005503   \n",
       "25%          0.553032         0.281048        0.145021          0.036145   \n",
       "50%          0.715336         0.472477        0.282091          0.063429   \n",
       "75%          0.781458         0.675637        0.477146          0.150735   \n",
       "max          0.843791         0.819808        0.668443          0.232010   \n",
       "\n",
       "          clouds  \n",
       "count  66.000000  \n",
       "mean    0.003161  \n",
       "std     0.016285  \n",
       "min     0.000000  \n",
       "25%     0.000000  \n",
       "50%     0.000000  \n",
       "75%     0.000000  \n",
       "max     0.093639  "
      ]
     },
     "execution_count": 22,
     "metadata": {},
     "output_type": "execute_result"
    }
   ],
   "source": [
    "df.describe()"
   ]
  },
  {
   "cell_type": "code",
   "execution_count": 23,
   "metadata": {},
   "outputs": [
    {
     "data": {
      "text/html": [
       "<div>\n",
       "<style scoped>\n",
       "    .dataframe tbody tr th:only-of-type {\n",
       "        vertical-align: middle;\n",
       "    }\n",
       "\n",
       "    .dataframe tbody tr th {\n",
       "        vertical-align: top;\n",
       "    }\n",
       "\n",
       "    .dataframe thead th {\n",
       "        text-align: right;\n",
       "    }\n",
       "</style>\n",
       "<table border=\"1\" class=\"dataframe\">\n",
       "  <thead>\n",
       "    <tr style=\"text-align: right;\">\n",
       "      <th></th>\n",
       "      <th>basicStats.max</th>\n",
       "      <th>basicStats.mean</th>\n",
       "      <th>basicStats.min</th>\n",
       "      <th>basicStats.stDev</th>\n",
       "      <th>clouds</th>\n",
       "    </tr>\n",
       "    <tr>\n",
       "      <th>date</th>\n",
       "      <th></th>\n",
       "      <th></th>\n",
       "      <th></th>\n",
       "      <th></th>\n",
       "      <th></th>\n",
       "    </tr>\n",
       "  </thead>\n",
       "  <tbody>\n",
       "    <tr>\n",
       "      <th>2018-06-20</th>\n",
       "      <td>0.784255</td>\n",
       "      <td>0.688024</td>\n",
       "      <td>0.363063</td>\n",
       "      <td>0.121820</td>\n",
       "      <td>0.0</td>\n",
       "    </tr>\n",
       "    <tr>\n",
       "      <th>2018-06-10</th>\n",
       "      <td>0.774577</td>\n",
       "      <td>0.693728</td>\n",
       "      <td>0.493108</td>\n",
       "      <td>0.049008</td>\n",
       "      <td>0.0</td>\n",
       "    </tr>\n",
       "    <tr>\n",
       "      <th>2018-05-31</th>\n",
       "      <td>0.684839</td>\n",
       "      <td>0.450683</td>\n",
       "      <td>0.362460</td>\n",
       "      <td>0.104486</td>\n",
       "      <td>0.0</td>\n",
       "    </tr>\n",
       "    <tr>\n",
       "      <th>2018-05-16</th>\n",
       "      <td>0.641694</td>\n",
       "      <td>0.363363</td>\n",
       "      <td>0.241323</td>\n",
       "      <td>0.148087</td>\n",
       "      <td>0.0</td>\n",
       "    </tr>\n",
       "    <tr>\n",
       "      <th>2018-05-06</th>\n",
       "      <td>0.769325</td>\n",
       "      <td>0.330141</td>\n",
       "      <td>0.189174</td>\n",
       "      <td>0.194542</td>\n",
       "      <td>0.0</td>\n",
       "    </tr>\n",
       "  </tbody>\n",
       "</table>\n",
       "</div>"
      ],
      "text/plain": [
       "            basicStats.max  basicStats.mean  basicStats.min  basicStats.stDev  \\\n",
       "date                                                                            \n",
       "2018-06-20        0.784255         0.688024        0.363063          0.121820   \n",
       "2018-06-10        0.774577         0.693728        0.493108          0.049008   \n",
       "2018-05-31        0.684839         0.450683        0.362460          0.104486   \n",
       "2018-05-16        0.641694         0.363363        0.241323          0.148087   \n",
       "2018-05-06        0.769325         0.330141        0.189174          0.194542   \n",
       "\n",
       "            clouds  \n",
       "date                \n",
       "2018-06-20     0.0  \n",
       "2018-06-10     0.0  \n",
       "2018-05-31     0.0  \n",
       "2018-05-16     0.0  \n",
       "2018-05-06     0.0  "
      ]
     },
     "execution_count": 23,
     "metadata": {},
     "output_type": "execute_result"
    }
   ],
   "source": [
    "# Ustvarimo podatkovni sloj brez oblakov\n",
    "df_cl = df.dropna()\n",
    "df_cl.head()"
   ]
  },
  {
   "cell_type": "markdown",
   "metadata": {},
   "source": [
    "## Graf poteka NDVI"
   ]
  },
  {
   "cell_type": "code",
   "execution_count": 24,
   "metadata": {
    "scrolled": true
   },
   "outputs": [
    {
     "data": {
      "text/plain": [
       "<matplotlib.axes._subplots.AxesSubplot at 0x7fea4ab90f60>"
      ]
     },
     "execution_count": 24,
     "metadata": {},
     "output_type": "execute_result"
    },
    {
     "data": {
      "image/png": "[encoded data removed]",
      "text/plain": [
       "<Figure size 720x576 with 1 Axes>"
      ]
     },
     "metadata": {},
     "output_type": "display_data"
    }
   ],
   "source": [
    "df_cl[\"basicStats.mean\"].plot(linestyle='-', marker='o')"
   ]
  },
  {
   "cell_type": "markdown",
   "metadata": {},
   "source": [
    "## Anliza podatkov za leto 2016\n",
    "\n",
    "Poglejmo kako se je v letu 2016 razvijala vegetacija na različnih površinah. Zanima nas:\n",
    "\n",
    "* gozd,\n",
    "* njiva,\n",
    "* naselje."
   ]
  }
 ],
 "metadata": {
  "kernelspec": {
   "display_name": "Python 3",
   "language": "python",
   "name": "python3"
  },
  "language_info": {
   "codemirror_mode": {
    "name": "ipython",
    "version": 3
   },
   "file_extension": ".py",
   "mimetype": "text/x-python",
   "name": "python",
   "nbconvert_exporter": "python",
   "pygments_lexer": "ipython3",
   "version": "3.6.5"
  }
 },
 "nbformat": 4,
 "nbformat_minor": 2
}
