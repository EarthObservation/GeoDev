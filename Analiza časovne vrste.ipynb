{
 "cells": [
  {
   "cell_type": "markdown",
   "metadata": {},
   "source": [
    "# Analiza časovne vrste podatkov Sentinel-2\n",
    "\n",
    "Analizirali bomo časovno vrsto vegetacijskioh indeksov dobljenih iz podatkov satelita Sentinel-2. Zmogljivosti statističnih analiz časovnih vrst na Sentinel Hubu so opisane:  \n",
    "https://www.sentinel-hub.com/develop/documentation/api/fis-request"
   ]
  },
  {
   "cell_type": "code",
   "execution_count": null,
   "metadata": {},
   "outputs": [],
   "source": [
    "# Knjižnice\n",
    "import requests\n",
    "import json\n",
    "import pandas as pd\n",
    "from pandas.io.json import json_normalize\n",
    "import matplotlib.pyplot as plt"
   ]
  },
  {
   "cell_type": "code",
   "execution_count": null,
   "metadata": {},
   "outputs": [],
   "source": [
    "%matplotlib inline"
   ]
  },
  {
   "cell_type": "code",
   "execution_count": null,
   "metadata": {},
   "outputs": [],
   "source": [
    "# Velikost grafikonov\n",
    "plt.rcParams['figure.figsize'] = [10, 8]"
   ]
  },
  {
   "cell_type": "code",
   "execution_count": null,
   "metadata": {},
   "outputs": [],
   "source": [
    "# ID ključ mora biti definiran, preberemo ga iz datoteke\n",
    "sentinelhub_id = 'sentinelhub.id'\n",
    "f = open(sentinelhub_id,'r')\n",
    "exec(f.readline())"
   ]
  },
  {
   "cell_type": "code",
   "execution_count": null,
   "metadata": {},
   "outputs": [],
   "source": [
    "if 'INSTANCE_ID' in locals():\n",
    "    print(\"Sentinel Hub INSTANCE_ID obstaja\")\n",
    "    print(INSTANCE_ID)"
   ]
  },
  {
   "cell_type": "code",
   "execution_count": null,
   "metadata": {},
   "outputs": [],
   "source": [
    "# Parametri za iskanje\n",
    "shub_url_base=\"http://services.sentinel-hub.com/ogc/fis/\"\n",
    "# Ločljivost 10 m\n",
    "res=\"&RESOLUTION=10m\"\n",
    "# Gledamo vse posnetke\n",
    "maxcc=\"&MAXCC=100\""
   ]
  },
  {
   "cell_type": "markdown",
   "metadata": {},
   "source": [
    "## Območje\n",
    "\n",
    "Začnemo z enostavnim poligonom."
   ]
  },
  {
   "cell_type": "code",
   "execution_count": null,
   "metadata": {},
   "outputs": [],
   "source": [
    "crs=\"EPSG:4326\"\n",
    "geometry_fn=\"podatki/kranj_rupa.wkt\""
   ]
  },
  {
   "cell_type": "code",
   "execution_count": null,
   "metadata": {},
   "outputs": [],
   "source": [
    "with open(geometry_fn, 'r') as geo_file:\n",
    "  geometry = geo_file.read()\n",
    "time = \"2015-01-01/2018-12-31\""
   ]
  },
  {
   "cell_type": "markdown",
   "metadata": {},
   "source": [
    "## Poizvedba\n",
    "\n",
    "Preberemo celotno časovno vrsto."
   ]
  },
  {
   "cell_type": "code",
   "execution_count": null,
   "metadata": {},
   "outputs": [],
   "source": [
    "# URL za poizvedbo\n",
    "shub_url = shub_url_base + INSTANCE_ID + \\\n",
    "    \"?LAYER=NDVI-CLOUDS&STYLE=INDEX&CRS=\" +  \\\n",
    "    crs + \"&TIME=\" + time + \"&GEOMETRY=\" + geometry + res + maxcc\n",
    "shub_url"
   ]
  },
  {
   "cell_type": "markdown",
   "metadata": {},
   "source": [
    "## Prenos podatkov\n",
    "\n",
    "Časovno vrsto prenesemo v obliki JSON."
   ]
  },
  {
   "cell_type": "code",
   "execution_count": null,
   "metadata": {},
   "outputs": [],
   "source": [
    "r=requests.get(shub_url)\n",
    "contents = json.loads(r.content.decode())"
   ]
  },
  {
   "cell_type": "code",
   "execution_count": null,
   "metadata": {},
   "outputs": [],
   "source": [
    "# Ustvarimo pandas dataframe\n",
    "df = json_normalize(contents['C0'])\n",
    "df.head()"
   ]
  },
  {
   "cell_type": "code",
   "execution_count": null,
   "metadata": {},
   "outputs": [],
   "source": [
    "# Dodamo še povprečno oblačnost v poligonu\n",
    "df[\"clouds\"] = json_normalize(contents['C1'])[\"basicStats.mean\"]\n",
    "df.head()"
   ]
  },
  {
   "cell_type": "code",
   "execution_count": null,
   "metadata": {},
   "outputs": [],
   "source": [
    "# Stolpec date pretvorimo v datum in naredimo indeks\n",
    "df['date'] = pd.to_datetime(df['date'], format='%Y-%m-%d')\n",
    "df = df.set_index(\"date\")\n",
    "df.head()"
   ]
  },
  {
   "cell_type": "code",
   "execution_count": null,
   "metadata": {
    "scrolled": true
   },
   "outputs": [],
   "source": [
    "# Podatke shranimo v datoteko\n",
    "df_fn = \"podatki/kranj_rupa.csv\"\n",
    "df.to_csv(df_fn)"
   ]
  },
  {
   "cell_type": "code",
   "execution_count": null,
   "metadata": {},
   "outputs": [],
   "source": [
    "# Izrišemo graf oblačnosti\n",
    "plt.plot(df[\"clouds\"], linestyle='-', marker='o', color=\"b\", alpha=0.8)\n",
    "plt.fill_between(df.index, df[\"clouds\"], alpha=0.3)\n",
    "plt.show()"
   ]
  },
  {
   "cell_type": "markdown",
   "metadata": {},
   "source": [
    "## Maskiranje podatkov z oblaki"
   ]
  },
  {
   "cell_type": "code",
   "execution_count": null,
   "metadata": {},
   "outputs": [],
   "source": [
    "# Izločimo podatke z več kot 10% oblakov\n",
    "df = df.mask(df[\"clouds\"] >= 0.1)\n",
    "df.head()"
   ]
  },
  {
   "cell_type": "code",
   "execution_count": null,
   "metadata": {
    "scrolled": true
   },
   "outputs": [],
   "source": [
    "df.describe()"
   ]
  },
  {
   "cell_type": "code",
   "execution_count": null,
   "metadata": {
    "scrolled": true
   },
   "outputs": [],
   "source": [
    "# Ustvarimo podatkovni sloj brez oblakov\n",
    "df_cl = df.dropna()\n",
    "df_cl.head()"
   ]
  },
  {
   "cell_type": "code",
   "execution_count": null,
   "metadata": {
    "scrolled": true
   },
   "outputs": [],
   "source": [
    "# Število malo oblačnih posnetkov po mesecih\n",
    "df_cl_m = df_cl[\"clouds\"].groupby([(df_cl.index.year),(df_cl.index.month)]).count()\n",
    "df_cl_m"
   ]
  },
  {
   "cell_type": "code",
   "execution_count": null,
   "metadata": {},
   "outputs": [],
   "source": [
    "df_cl_m"
   ]
  },
  {
   "cell_type": "markdown",
   "metadata": {},
   "source": [
    "## Graf poteka NDVI"
   ]
  },
  {
   "cell_type": "code",
   "execution_count": null,
   "metadata": {
    "scrolled": true
   },
   "outputs": [],
   "source": [
    "df_cl[\"basicStats.mean\"].plot(linestyle='-', marker='o')"
   ]
  },
  {
   "cell_type": "markdown",
   "metadata": {},
   "source": [
    "## Anliza podatkov za leto 2016\n",
    "\n",
    "Poglejmo kako se je v letu 2016 razvijala vegetacija na različnih površinah. Zanima nas:\n",
    "\n",
    "* gozd,\n",
    "* njiva,\n",
    "* naselje."
   ]
  },
  {
   "cell_type": "code",
   "execution_count": null,
   "metadata": {},
   "outputs": [],
   "source": [
    "# WKT različnih območij je v CSV datoteki\n",
    "vzorci_wkt_fn = \"./podatki/vzorci_raba_tal_wkt.csv\"\n",
    "vzorci_wkt = pd.read_csv(vzorci_wkt_fn, sep=\";\")\n",
    "vzorci_wkt"
   ]
  },
  {
   "cell_type": "markdown",
   "metadata": {},
   "source": [
    "## Časovne vrste posameznih kategorij\n",
    "\n",
    "Gornji postopek ponovimo za vse kategorije."
   ]
  },
  {
   "cell_type": "code",
   "execution_count": null,
   "metadata": {},
   "outputs": [],
   "source": [
    "kat_ndvi = pd.DataFrame()"
   ]
  },
  {
   "cell_type": "code",
   "execution_count": null,
   "metadata": {},
   "outputs": [],
   "source": [
    "for index, row in vzorci_wkt.iterrows():\n",
    "    print (row[\"Kategorija\"])\n",
    "    geometry = row[\"WKT\"]\n",
    "    shub_url = shub_url_base + INSTANCE_ID + \\\n",
    "    \"?LAYER=NDVI-CLOUDS&STYLE=INDEX&CRS=\" +  \\\n",
    "    crs + \"&TIME=\" + time + \"&GEOMETRY=\" + geometry + res + maxcc\n",
    "    r=requests.get(shub_url)\n",
    "    contents = json.loads(r.content.decode())\n",
    "    df = json_normalize(contents['C0'])\n",
    "    df[\"clouds\"] = json_normalize(contents['C1'])[\"basicStats.mean\"]\n",
    "    df['date'] = pd.to_datetime(df['date'], format='%Y-%m-%d')\n",
    "    df = df.set_index(\"date\")\n",
    "    df = df.mask(df[\"clouds\"] >= 0.1)\n",
    "    df_cl = df.dropna()\n",
    "    df_join = df_cl[\"basicStats.mean\"].copy()\n",
    "    kat_ndvi[row[\"Kategorija\"]] = df_join"
   ]
  },
  {
   "cell_type": "code",
   "execution_count": null,
   "metadata": {},
   "outputs": [],
   "source": [
    "kat_ndvi.head()"
   ]
  },
  {
   "cell_type": "code",
   "execution_count": null,
   "metadata": {},
   "outputs": [],
   "source": [
    "kat_ndvi.plot(marker='o')"
   ]
  }
 ],
 "metadata": {
  "kernelspec": {
   "display_name": "Python 3",
   "language": "python",
   "name": "python3"
  },
  "language_info": {
   "codemirror_mode": {
    "name": "ipython",
    "version": 3
   },
   "file_extension": ".py",
   "mimetype": "text/x-python",
   "name": "python",
   "nbconvert_exporter": "python",
   "pygments_lexer": "ipython3",
   "version": "3.6.5"
  }
 },
 "nbformat": 4,
 "nbformat_minor": 2
}
