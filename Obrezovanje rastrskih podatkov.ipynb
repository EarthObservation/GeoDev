{
 "cells": [
  {
   "cell_type": "markdown",
   "metadata": {},
   "source": [
    "# Obrezovanje rastrskih podatkov\n",
    "\n",
    "Posnetki, ki smo jih prenesli so precej veliki. Zaradi hitrejše obdelave in zmanjšanja potreb po pomnilniku jih bomo obrezali na manjše območje. Uporabili bomo knjižnico [GDAL - Geospatial Data Abstraction Library](http://www.gdal.org)."
   ]
  },
  {
   "cell_type": "code",
   "execution_count": null,
   "metadata": {},
   "outputs": [],
   "source": [
    "import os"
   ]
  },
  {
   "cell_type": "markdown",
   "metadata": {},
   "source": [
    "## Izberemo manjše območje\n",
    "\n",
    "Prenešeni podatki so v UTM, zato moramo tudi koordinate območja obrezovanja podatki v UTM."
   ]
  },
  {
   "cell_type": "code",
   "execution_count": null,
   "metadata": {},
   "outputs": [],
   "source": [
    "# Bouding box območja\n",
    "obmocje_bb = [\n",
    "    446000, 5114000,\n",
    "    456000, 5124000\n",
    "]"
   ]
  },
  {
   "cell_type": "markdown",
   "metadata": {},
   "source": [
    "## Branje in obrezovanje datotek"
   ]
  },
  {
   "cell_type": "markdown",
   "metadata": {},
   "source": [
    "Obrezovanje opravimo z GDALom.\n",
    "\n",
    "`gdalwarp -te xmin ymin xmax ymax -of GTiff srcfile dstfile`"
   ]
  },
  {
   "cell_type": "code",
   "execution_count": null,
   "metadata": {},
   "outputs": [],
   "source": [
    "# Mapa s podatki\n",
    "data_folder = \"./posnetki/\"\n",
    "# Izhodni podatki\n",
    "out_folder = \"./posnetki_sub/\"\n",
    "if not os.path.exists(out_folder):\n",
    "    os.makedirs(out_folder)\n",
    "# Seznam podmap\n",
    "s2_data = os.listdir(data_folder)"
   ]
  },
  {
   "cell_type": "code",
   "execution_count": null,
   "metadata": {},
   "outputs": [],
   "source": [
    "# Iteriramo po mapah s posnetki\n",
    "for item in s2_data:\n",
    "    print(\"Obrezovanje:\", item)\n",
    "    # Imena datotek\n",
    "    b4_in_fn = data_folder + item + \"/B04.jp2\"\n",
    "    b8_in_fn = data_folder + item + \"/B08.jp2\"\n",
    "    b4_out_fn = out_folder + item + \"_B04.jp2\"\n",
    "    b8_out_fn = out_folder + item + \"_B08.jp2\"\n",
    "    # Obrezovanje\n",
    "    gdalwarp = 'gdalwarp -overwrite -te %s -of GTiff %s %s' % (str(obmocje_bb).strip('[]'), b4_in_fn, b4_out_fn)\n",
    "    os.system(gdalwarp)\n",
    "    gdalwarp = 'gdalwarp -overwrite -te %s -of GTiff %s %s' % (str(obmocje_bb).strip('[]'), b8_in_fn, b8_out_fn)\n",
    "    os.system(gdalwarp)"
   ]
  },
  {
   "cell_type": "code",
   "execution_count": null,
   "metadata": {},
   "outputs": [],
   "source": []
  }
 ],
 "metadata": {
  "kernelspec": {
   "display_name": "Python 3",
   "language": "python",
   "name": "python3"
  },
  "language_info": {
   "codemirror_mode": {
    "name": "ipython",
    "version": 3
   },
   "file_extension": ".py",
   "mimetype": "text/x-python",
   "name": "python",
   "nbconvert_exporter": "python",
   "pygments_lexer": "ipython3",
   "version": "3.6.5"
  }
 },
 "nbformat": 4,
 "nbformat_minor": 2
}
